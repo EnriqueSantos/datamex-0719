{
 "cells": [
  {
   "cell_type": "markdown",
   "metadata": {},
   "source": [
    "# Q1\n",
    "\n",
    "El primer paso es seleccionar lo datos desde MongoDB, pasarlos a un dataframe, limpiarlos y guardar las seleccion de datos en un archivo json para volver a llevarlos a MongoDB."
   ]
  },
  {
   "cell_type": "code",
   "execution_count": 112,
   "metadata": {},
   "outputs": [],
   "source": [
    "# Tu codigo aqui\n",
    "import pandas as pd \n",
    "import numpy as np\n",
    "from pymongo import MongoClient\n",
    "from bson.json_util import dumps\n",
    "from pandas.io.json import json_normalize\n",
    "import json\n",
    "import re"
   ]
  },
  {
   "cell_type": "code",
   "execution_count": 113,
   "metadata": {},
   "outputs": [],
   "source": [
    "client=MongoClient()\n",
    "db=client.companiesDB"
   ]
  },
  {
   "cell_type": "code",
   "execution_count": 114,
   "metadata": {},
   "outputs": [
    {
     "data": {
      "text/plain": [
       "dict_keys(['_id', 'name', 'permalink', 'crunchbase_url', 'homepage_url', 'blog_url', 'blog_feed_url', 'twitter_username', 'category_code', 'number_of_employees', 'founded_year', 'founded_month', 'founded_day', 'deadpooled_year', 'tag_list', 'alias_list', 'email_address', 'phone_number', 'description', 'created_at', 'updated_at', 'overview', 'image', 'products', 'relationships', 'competitions', 'providerships', 'total_money_raised', 'funding_rounds', 'investments', 'acquisition', 'acquisitions', 'offices', 'milestones', 'video_embeds', 'screenshots', 'external_links', 'partners'])"
      ]
     },
     "execution_count": 114,
     "metadata": {},
     "output_type": "execute_result"
    }
   ],
   "source": [
    "db.companies.find_one().keys()"
   ]
  },
  {
   "cell_type": "code",
   "execution_count": 176,
   "metadata": {},
   "outputs": [],
   "source": [
    "# Realizamos una query para extraer las empresas de nuestro interes.\n",
    "# videojuegos, empresas de desarrollo web, e-commerce, mobile, foto, video e incluso de network hosting\n",
    "\n",
    "data = db.companies.find({'$and':[{'$or':[{'category_code':'web'},{'category_code':'network_hosting'},\n",
    "                                 {'category_code':'photo_video'},{'category_code':'ecommerce'},\n",
    "                                 {'category_code':'mobile'}]},\n",
    "                                 {'$and':[{'offices':{'$ne':[]}},\n",
    "                                          {'number_of_employees':{'$gt':0}},\n",
    "                                          {'total_money_raised':{'$ne':'$0'}},\n",
    "                                          {'founded_year':{'$gt':0}},\n",
    "                                          {'offices.latitude':{'$ne':None}},\n",
    "                                          {'offices.longitude':{'$ne':None}},\n",
    "                                          {'deadpooled_year':{'$eq':None}}]}]},\n",
    "                         {'_id':0,'name':1,'founded_year':1,'category_code':1,'number_of_employees':1,'offices':1,'total_money_raised':1})"
   ]
  },
  {
   "cell_type": "code",
   "execution_count": 177,
   "metadata": {},
   "outputs": [],
   "source": [
    "interesting_companies = pd.DataFrame.from_dict(data).sort_values('founded_year',ascending=True)"
   ]
  },
  {
   "cell_type": "code",
   "execution_count": 178,
   "metadata": {},
   "outputs": [],
   "source": [
    "def change_to_M(x):\n",
    "    nums = ''.join(re.findall(r'\\d',x))\n",
    "    if x[0] == '£':\n",
    "        nums *= 23\n",
    "    elif x[0] == '€':\n",
    "        nums *= 21\n",
    "        \n",
    "    if x[-1] == 'M':\n",
    "        return float(nums)\n",
    "    elif x[-1] == 'k':\n",
    "        return float(nums)/1000\n",
    "    else:\n",
    "        return float(nums)*1000\n",
    "\n",
    "def clasify_company(x):\n",
    "    if x.founded_year > 2005 and x.number_of_employees < 300:\n",
    "        return 'Start-up'\n",
    "    else:\n",
    "        return 'Big company'\n",
    "\n",
    "def office(x):\n",
    "    field = {\"type\": \"Point\",\"coordinates\": [x[0]['longitude'],x[0]['latitude']]}\n",
    "    return field\n",
    "\n",
    "\n",
    "interesting_companies['type'] = interesting_companies.apply(clasify_company,axis=1)\n",
    "interesting_companies['loc_office'] = interesting_companies['offices'].apply(office)\n",
    "interesting_companies.drop('offices',axis=1,inplace=True)"
   ]
  },
  {
   "cell_type": "code",
   "execution_count": 179,
   "metadata": {},
   "outputs": [
    {
     "data": {
      "text/html": [
       "<div>\n",
       "<style scoped>\n",
       "    .dataframe tbody tr th:only-of-type {\n",
       "        vertical-align: middle;\n",
       "    }\n",
       "\n",
       "    .dataframe tbody tr th {\n",
       "        vertical-align: top;\n",
       "    }\n",
       "\n",
       "    .dataframe thead th {\n",
       "        text-align: right;\n",
       "    }\n",
       "</style>\n",
       "<table border=\"1\" class=\"dataframe\">\n",
       "  <thead>\n",
       "    <tr style=\"text-align: right;\">\n",
       "      <th></th>\n",
       "      <th>category_code</th>\n",
       "      <th>founded_year</th>\n",
       "      <th>name</th>\n",
       "      <th>number_of_employees</th>\n",
       "      <th>total_money_raised</th>\n",
       "      <th>type</th>\n",
       "      <th>loc_office</th>\n",
       "    </tr>\n",
       "  </thead>\n",
       "  <tbody>\n",
       "    <tr>\n",
       "      <th>320</th>\n",
       "      <td>network_hosting</td>\n",
       "      <td>1961</td>\n",
       "      <td>ECI Telecom</td>\n",
       "      <td>3000</td>\n",
       "      <td>$173M</td>\n",
       "      <td>Big company</td>\n",
       "      <td>{'type': 'Point', 'coordinates': [-80.1912988,...</td>\n",
       "    </tr>\n",
       "    <tr>\n",
       "      <th>3</th>\n",
       "      <td>network_hosting</td>\n",
       "      <td>1984</td>\n",
       "      <td>Cisco</td>\n",
       "      <td>63000</td>\n",
       "      <td>$2.5M</td>\n",
       "      <td>Big company</td>\n",
       "      <td>{'type': 'Point', 'coordinates': [-121.95377, ...</td>\n",
       "    </tr>\n",
       "    <tr>\n",
       "      <th>399</th>\n",
       "      <td>mobile</td>\n",
       "      <td>1984</td>\n",
       "      <td>Morcom International</td>\n",
       "      <td>15</td>\n",
       "      <td>$100k</td>\n",
       "      <td>Big company</td>\n",
       "      <td>{'type': 'Point', 'coordinates': [-77.4276702,...</td>\n",
       "    </tr>\n",
       "    <tr>\n",
       "      <th>32</th>\n",
       "      <td>web</td>\n",
       "      <td>1985</td>\n",
       "      <td>AOL</td>\n",
       "      <td>8000</td>\n",
       "      <td>$1B</td>\n",
       "      <td>Big company</td>\n",
       "      <td>{'type': 'Point', 'coordinates': [-73.9919311,...</td>\n",
       "    </tr>\n",
       "    <tr>\n",
       "      <th>382</th>\n",
       "      <td>network_hosting</td>\n",
       "      <td>1993</td>\n",
       "      <td>Logicworks</td>\n",
       "      <td>75</td>\n",
       "      <td>$7.6M</td>\n",
       "      <td>Big company</td>\n",
       "      <td>{'type': 'Point', 'coordinates': [-74.0045549,...</td>\n",
       "    </tr>\n",
       "  </tbody>\n",
       "</table>\n",
       "</div>"
      ],
      "text/plain": [
       "       category_code  founded_year                  name  number_of_employees  \\\n",
       "320  network_hosting          1961           ECI Telecom                 3000   \n",
       "3    network_hosting          1984                 Cisco                63000   \n",
       "399           mobile          1984  Morcom International                   15   \n",
       "32               web          1985                   AOL                 8000   \n",
       "382  network_hosting          1993            Logicworks                   75   \n",
       "\n",
       "    total_money_raised         type  \\\n",
       "320              $173M  Big company   \n",
       "3                $2.5M  Big company   \n",
       "399              $100k  Big company   \n",
       "32                 $1B  Big company   \n",
       "382              $7.6M  Big company   \n",
       "\n",
       "                                            loc_office  \n",
       "320  {'type': 'Point', 'coordinates': [-80.1912988,...  \n",
       "3    {'type': 'Point', 'coordinates': [-121.95377, ...  \n",
       "399  {'type': 'Point', 'coordinates': [-77.4276702,...  \n",
       "32   {'type': 'Point', 'coordinates': [-73.9919311,...  \n",
       "382  {'type': 'Point', 'coordinates': [-74.0045549,...  "
      ]
     },
     "execution_count": 179,
     "metadata": {},
     "output_type": "execute_result"
    }
   ],
   "source": [
    "interesting_companies.head(5)"
   ]
  },
  {
   "cell_type": "code",
   "execution_count": 180,
   "metadata": {},
   "outputs": [],
   "source": [
    "content = []\n",
    "dict_companies = interesting_companies.transpose().to_dict()\n",
    "for i in range(len(dict_companies)):\n",
    "    content.append(dict_companies[i])"
   ]
  },
  {
   "cell_type": "code",
   "execution_count": 181,
   "metadata": {},
   "outputs": [
    {
     "data": {
      "text/plain": [
       "Start-up       266\n",
       "Big company    139\n",
       "Name: type, dtype: int64"
      ]
     },
     "execution_count": 181,
     "metadata": {},
     "output_type": "execute_result"
    }
   ],
   "source": [
    "interesting_companies.type.value_counts()"
   ]
  },
  {
   "cell_type": "code",
   "execution_count": 182,
   "metadata": {},
   "outputs": [],
   "source": [
    "mycol = db[\"companies2\"]\n",
    "x = mycol.insert_many(content)"
   ]
  }
 ],
 "metadata": {
  "kernelspec": {
   "display_name": "Python 3",
   "language": "python",
   "name": "python3"
  },
  "language_info": {
   "codemirror_mode": {
    "name": "ipython",
    "version": 3
   },
   "file_extension": ".py",
   "mimetype": "text/x-python",
   "name": "python",
   "nbconvert_exporter": "python",
   "pygments_lexer": "ipython3",
   "version": "3.7.3"
  }
 },
 "nbformat": 4,
 "nbformat_minor": 2
}
